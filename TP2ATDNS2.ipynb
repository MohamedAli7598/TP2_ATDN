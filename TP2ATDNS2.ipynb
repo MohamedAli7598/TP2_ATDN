{
  "nbformat": 4,
  "nbformat_minor": 0,
  "metadata": {
    "colab": {
      "provenance": []
    },
    "kernelspec": {
      "name": "python3",
      "display_name": "Python 3"
    },
    "language_info": {
      "name": "python"
    }
  },
  "cells": [
    {
      "cell_type": "markdown",
      "source": [
        "ALI Mohamed M1 OIVM\n",
        "\n",
        "**TP2 ATDN : Optimisation Bayésienne et Modèles Bayésiens à Noyau**"
      ],
      "metadata": {
        "id": "aVBiYLUqMHiP"
      }
    },
    {
      "cell_type": "markdown",
      "source": [
        "**Partie 1 : Optimisation Bayésienne**\n",
        "\n",
        "**Fondements théoriques**\n",
        "\n",
        "1. Expliquez le principe de l'optimisation bayésienne.\n",
        "Décrivez comment elle permet de gérer les fonctions coûteuses à évaluer.\n"
      ],
      "metadata": {
        "id": "RPsEtgFtMx0_"
      }
    },
    {
      "cell_type": "markdown",
      "source": [
        "**L'optimisation bayésienne permet de trouver le point optimum d'une fonction, c'est à dire qu'elle permet de trouver le maximum ou le minimum pour une fonction coûteuse à évaluer, en reposant sur une modélisation probabiliste**.\n",
        "\n",
        "**Elle permet de gérer les fonctions coûteuse à évaluer via le processus Gaussien afin d'obtenir une estimation probabiliste de la fonction. De plus, l'optimisation bayésienne permet une convergence plus rapide vers des solution optimales tout en minimisant le plus les itérations**."
      ],
      "metadata": {
        "id": "RvUpgW79M-Pn"
      }
    },
    {
      "cell_type": "markdown",
      "source": [
        "2. Définissez et expliquez les processus gaussiens.\n",
        "Pourquoi sont-ils utilisés pour modéliser la fonction objective ?\n"
      ],
      "metadata": {
        "id": "D9ZXbA5mQaZ4"
      }
    },
    {
      "cell_type": "markdown",
      "source": [
        "**Un processus gaussien est en faite une distribution de fonctions où tous les points suit une distribution gaussienne jointe**.\n",
        "\n",
        "**On utilise le processus gaussien pour modéliser la fonction objective car il permet de quantifier l'incertitude et permet de modéliser une fonction grâce à une estimation probabiliste (moyenne et variance (incertitude))**."
      ],
      "metadata": {
        "id": "LxZk88A2QghQ"
      }
    },
    {
      "cell_type": "markdown",
      "source": [
        "3. Décrivez les principales fonctions d’acquisition (Expected Improvement, Upper\n",
        "Confidence Bound, etc.).\n",
        "Expliquez leur rôle dans le compromis exploration/exploitation."
      ],
      "metadata": {
        "id": "rDCUqp_UR1PI"
      }
    },
    {
      "cell_type": "markdown",
      "source": [
        "**Les fonctions d'acquisition permet de choisir de manière intelligente le prochain point à tester dans l'optimisation bayésienne. Elle permet de trouver un équilibre entre Exploration (teste des zones peu connues pour mieux comprendre la fonction) et Exploitation (se concentre sur les zones déja identifiées comme prometteuses)**.\n",
        "\n",
        "**Expected Improvement (EI) : sélectionne le point qui a le plus de chances d'améliorer le meilleur résultat connu**.\n",
        "\n",
        "**Upper Confidence Bound (UCB) : favorise les zones où l’incertitude est élevée pour explorer de nouvelles possibilités**.\n",
        "\n",
        "**Probability of Improvement (PI) : choisit le point ayant la plus grande probabilité d’être meilleur que l’optimum actuel**."
      ],
      "metadata": {
        "id": "sbXU1SNqR49g"
      }
    },
    {
      "cell_type": "markdown",
      "source": [
        "**Implémentation et applications**"
      ],
      "metadata": {
        "id": "ew_suPPTQVQA"
      }
    },
    {
      "cell_type": "markdown",
      "source": [
        "4. Implémentez une optimisation bayésienne pour maximiser la production agricole en\n",
        "fonction de l'humidité et de la température.\n",
        "Visualisez les étapes du processus"
      ],
      "metadata": {
        "id": "1YX4lySkTZBx"
      }
    },
    {
      "cell_type": "code",
      "execution_count": 2,
      "metadata": {
        "colab": {
          "base_uri": "https://localhost:8080/"
        },
        "id": "EuVabhljL8UP",
        "outputId": "a2acf8d0-c10f-41fb-9e6e-4d0df3937c0e"
      },
      "outputs": [
        {
          "output_type": "stream",
          "name": "stdout",
          "text": [
            "   Humidité (%)  Température (°C)  pH du sol  Précipitations (mm) Type de sol  \\\n",
            "0     52.472407         27.454043   6.055399           179.770446    Limoneux   \n",
            "1     87.042858         23.402409   7.125703           169.795469    Limoneux   \n",
            "2     73.919637         17.738190   8.118838            56.410516    Limoneux   \n",
            "3     65.919509         30.344875   7.696675           135.311957     Sableux   \n",
            "4     39.361118         27.118279   7.919683           145.048905     Sableux   \n",
            "\n",
            "   Rendement agricole (t/ha)  \n",
            "0                   7.038885  \n",
            "1                   7.712547  \n",
            "2                   6.587578  \n",
            "3                   7.907268  \n",
            "4                   6.889830  \n"
          ]
        }
      ],
      "source": [
        "import pandas as pd\n",
        "import numpy as np\n",
        "\n",
        "data = pd.read_csv(\"/content/tp2_atdn_donnees.csv\")\n",
        "\n",
        "print(data.head())"
      ]
    },
    {
      "cell_type": "code",
      "source": [],
      "metadata": {
        "id": "R9piQ9l7V-kx"
      },
      "execution_count": 20,
      "outputs": []
    },
    {
      "cell_type": "code",
      "source": [
        "#Définition des variables explicatives et de la cible\n",
        "X = data[[\"Humidité (%)\", \"Température (°C)\"]]\n",
        "y = data[\"Rendement agricole (t/ha)\"]"
      ],
      "metadata": {
        "id": "Capjqs6lWQth"
      },
      "execution_count": 21,
      "outputs": []
    },
    {
      "cell_type": "code",
      "source": [
        "from sklearn.model_selection import train_test_split\n",
        "\n",
        "#Division des données\n",
        "X_train, X_test, y_train, y_test = train_test_split(X, y, test_size=0.2, random_state=42)\n"
      ],
      "metadata": {
        "id": "WM_GmjgMWa5B"
      },
      "execution_count": 6,
      "outputs": []
    },
    {
      "cell_type": "markdown",
      "source": [
        "5. Utilisez l’optimisation bayésienne pour ajuster les hyperparamètres d’un modèle de\n",
        "régression (ex : Random Forest) sur les données agricoles fournies.\n",
        "Comparez les résultats avec Grid Search et Random Search"
      ],
      "metadata": {
        "id": "ty0ce-fpZg0C"
      }
    },
    {
      "cell_type": "code",
      "source": [
        "from sklearn.ensemble import RandomForestRegressor\n",
        "\n",
        "#Modèle de régression\n",
        "model = RandomForestRegressor(n_estimators=50, random_state=42).fit(X_train, y_train)\n"
      ],
      "metadata": {
        "id": "fWwEnWmWXbe5"
      },
      "execution_count": 7,
      "outputs": []
    },
    {
      "cell_type": "code",
      "source": [
        "pip install scikit-learn scikit-optimize"
      ],
      "metadata": {
        "colab": {
          "base_uri": "https://localhost:8080/"
        },
        "id": "M3q1hop6YOAC",
        "outputId": "658e000e-d308-40a3-e3e2-2e10ece6cda8"
      },
      "execution_count": 9,
      "outputs": [
        {
          "output_type": "stream",
          "name": "stdout",
          "text": [
            "Requirement already satisfied: scikit-learn in /usr/local/lib/python3.11/dist-packages (1.6.1)\n",
            "Collecting scikit-optimize\n",
            "  Downloading scikit_optimize-0.10.2-py2.py3-none-any.whl.metadata (9.7 kB)\n",
            "Requirement already satisfied: numpy>=1.19.5 in /usr/local/lib/python3.11/dist-packages (from scikit-learn) (2.0.2)\n",
            "Requirement already satisfied: scipy>=1.6.0 in /usr/local/lib/python3.11/dist-packages (from scikit-learn) (1.14.1)\n",
            "Requirement already satisfied: joblib>=1.2.0 in /usr/local/lib/python3.11/dist-packages (from scikit-learn) (1.4.2)\n",
            "Requirement already satisfied: threadpoolctl>=3.1.0 in /usr/local/lib/python3.11/dist-packages (from scikit-learn) (3.6.0)\n",
            "Collecting pyaml>=16.9 (from scikit-optimize)\n",
            "  Downloading pyaml-25.1.0-py3-none-any.whl.metadata (12 kB)\n",
            "Requirement already satisfied: packaging>=21.3 in /usr/local/lib/python3.11/dist-packages (from scikit-optimize) (24.2)\n",
            "Requirement already satisfied: PyYAML in /usr/local/lib/python3.11/dist-packages (from pyaml>=16.9->scikit-optimize) (6.0.2)\n",
            "Downloading scikit_optimize-0.10.2-py2.py3-none-any.whl (107 kB)\n",
            "\u001b[2K   \u001b[90m━━━━━━━━━━━━━━━━━━━━━━━━━━━━━━━━━━━━━━━━\u001b[0m \u001b[32m107.8/107.8 kB\u001b[0m \u001b[31m3.0 MB/s\u001b[0m eta \u001b[36m0:00:00\u001b[0m\n",
            "\u001b[?25hDownloading pyaml-25.1.0-py3-none-any.whl (26 kB)\n",
            "Installing collected packages: pyaml, scikit-optimize\n",
            "Successfully installed pyaml-25.1.0 scikit-optimize-0.10.2\n"
          ]
        }
      ]
    },
    {
      "cell_type": "code",
      "source": [
        "from skopt import gp_minimize\n",
        "from skopt.space import Real\n",
        "from skopt.utils import use_named_args\n",
        "\n",
        "#Optimisation bayésienne\n",
        "space = [Real(30, 90, name='Humidité (%)'),\n",
        "         Real(10, 35, name='Température (°C)')]\n",
        "\n",
        "@use_named_args(space)\n",
        "def objective(**params):\n",
        "  x = np.array([[params[\"Humidité (%)\"], params[\"Température (°C)\"]]])\n",
        "  return -model.predict(x)[0]\n",
        "\n",
        "res = gp_minimize(objective, space, n_calls=20, random_state=42)\n",
        "\n",
        "print(\"Optimisation Bayésienne :\", {\"Humidité (%)\": res.x[0], \"Température (°C)\": res.x[1]})"
      ],
      "metadata": {
        "colab": {
          "base_uri": "https://localhost:8080/"
        },
        "id": "VH2KM7asXiqC",
        "outputId": "dfcb40d6-1f0e-4bd9-e5eb-8549b79fa13d"
      },
      "execution_count": 23,
      "outputs": [
        {
          "output_type": "stream",
          "name": "stderr",
          "text": [
            "/usr/local/lib/python3.11/dist-packages/sklearn/utils/validation.py:2739: UserWarning: X does not have valid feature names, but KernelRidge was fitted with feature names\n",
            "  warnings.warn(\n",
            "/usr/local/lib/python3.11/dist-packages/sklearn/utils/validation.py:2739: UserWarning: X does not have valid feature names, but KernelRidge was fitted with feature names\n",
            "  warnings.warn(\n",
            "/usr/local/lib/python3.11/dist-packages/sklearn/utils/validation.py:2739: UserWarning: X does not have valid feature names, but KernelRidge was fitted with feature names\n",
            "  warnings.warn(\n",
            "/usr/local/lib/python3.11/dist-packages/sklearn/utils/validation.py:2739: UserWarning: X does not have valid feature names, but KernelRidge was fitted with feature names\n",
            "  warnings.warn(\n",
            "/usr/local/lib/python3.11/dist-packages/sklearn/utils/validation.py:2739: UserWarning: X does not have valid feature names, but KernelRidge was fitted with feature names\n",
            "  warnings.warn(\n",
            "/usr/local/lib/python3.11/dist-packages/sklearn/utils/validation.py:2739: UserWarning: X does not have valid feature names, but KernelRidge was fitted with feature names\n",
            "  warnings.warn(\n",
            "/usr/local/lib/python3.11/dist-packages/sklearn/utils/validation.py:2739: UserWarning: X does not have valid feature names, but KernelRidge was fitted with feature names\n",
            "  warnings.warn(\n",
            "/usr/local/lib/python3.11/dist-packages/sklearn/utils/validation.py:2739: UserWarning: X does not have valid feature names, but KernelRidge was fitted with feature names\n",
            "  warnings.warn(\n",
            "/usr/local/lib/python3.11/dist-packages/sklearn/utils/validation.py:2739: UserWarning: X does not have valid feature names, but KernelRidge was fitted with feature names\n",
            "  warnings.warn(\n",
            "/usr/local/lib/python3.11/dist-packages/sklearn/utils/validation.py:2739: UserWarning: X does not have valid feature names, but KernelRidge was fitted with feature names\n",
            "  warnings.warn(\n",
            "/usr/local/lib/python3.11/dist-packages/sklearn/utils/validation.py:2739: UserWarning: X does not have valid feature names, but KernelRidge was fitted with feature names\n",
            "  warnings.warn(\n",
            "/usr/local/lib/python3.11/dist-packages/sklearn/utils/validation.py:2739: UserWarning: X does not have valid feature names, but KernelRidge was fitted with feature names\n",
            "  warnings.warn(\n",
            "/usr/local/lib/python3.11/dist-packages/sklearn/utils/validation.py:2739: UserWarning: X does not have valid feature names, but KernelRidge was fitted with feature names\n",
            "  warnings.warn(\n",
            "/usr/local/lib/python3.11/dist-packages/sklearn/utils/validation.py:2739: UserWarning: X does not have valid feature names, but KernelRidge was fitted with feature names\n",
            "  warnings.warn(\n",
            "/usr/local/lib/python3.11/dist-packages/sklearn/utils/validation.py:2739: UserWarning: X does not have valid feature names, but KernelRidge was fitted with feature names\n",
            "  warnings.warn(\n",
            "/usr/local/lib/python3.11/dist-packages/sklearn/utils/validation.py:2739: UserWarning: X does not have valid feature names, but KernelRidge was fitted with feature names\n",
            "  warnings.warn(\n",
            "/usr/local/lib/python3.11/dist-packages/sklearn/utils/validation.py:2739: UserWarning: X does not have valid feature names, but KernelRidge was fitted with feature names\n",
            "  warnings.warn(\n",
            "/usr/local/lib/python3.11/dist-packages/sklearn/utils/validation.py:2739: UserWarning: X does not have valid feature names, but KernelRidge was fitted with feature names\n",
            "  warnings.warn(\n",
            "/usr/local/lib/python3.11/dist-packages/sklearn/utils/validation.py:2739: UserWarning: X does not have valid feature names, but KernelRidge was fitted with feature names\n",
            "  warnings.warn(\n",
            "/usr/local/lib/python3.11/dist-packages/sklearn/utils/validation.py:2739: UserWarning: X does not have valid feature names, but KernelRidge was fitted with feature names\n",
            "  warnings.warn(\n"
          ]
        },
        {
          "output_type": "stream",
          "name": "stdout",
          "text": [
            "Optimisation Bayésienne : {'Humidité (%)': 78.1182439493666, 'Température (°C)': 15.213055739474138}\n"
          ]
        }
      ]
    },
    {
      "cell_type": "markdown",
      "source": [
        "**Résultat de l'optimisation bayésienne : Optimisation Bayésienne : {'Humidité (%)': 78.1182439493666, 'Température (°C)': 15.213055739474138}**\n"
      ],
      "metadata": {
        "id": "7vCPCrDuXZIp"
      }
    },
    {
      "cell_type": "markdown",
      "source": [
        "**L'optimisation bayésienne a identifié, prédit que les conditions optimales pour maximiser le rendement agricole sont : une humidité élevée(78%) et une température aux alentoures de 15°C**."
      ],
      "metadata": {
        "id": "rbQRCPy5anci"
      }
    },
    {
      "cell_type": "code",
      "source": [
        "from sklearn.model_selection import GridSearchCV, RandomizedSearchCV\n",
        "\n",
        "#Comparaison avec Grid Search et Random Search\n",
        "\n",
        "param_grid = {\"n_estimators\": [10, 50, 100], \"max_depth\": [5, 10, 20, None]}\n",
        "grid_search = GridSearchCV(RandomForestRegressor(), param_grid, cv=3)\n",
        "grid_search.fit(X_train, y_train)\n",
        "print(\"Meilleurs paramètres (Grid Search) :\", grid_search.best_params_)\n",
        "\n",
        "param_dist = {\"n_estimators\": np.arange(10, 101, 10), \"max_depth\": [5, 10, 20, None]}\n",
        "random_search = RandomizedSearchCV(RandomForestRegressor(), param_dist, cv=3, n_iter=10)\n",
        "random_search.fit(X_train, y_train)\n",
        "print(\"Meilleurs paramètres (Random Search) :\", random_search.best_params_)"
      ],
      "metadata": {
        "colab": {
          "base_uri": "https://localhost:8080/"
        },
        "id": "8MubUnJ3aILT",
        "outputId": "07b72faa-54e8-4e78-9b73-30bbb68487d9"
      },
      "execution_count": 24,
      "outputs": [
        {
          "output_type": "stream",
          "name": "stdout",
          "text": [
            "Meilleurs paramètres (Grid Search) : {'max_depth': 5, 'n_estimators': 50}\n",
            "Meilleurs paramètres (Random Search) : {'n_estimators': np.int64(20), 'max_depth': 5}\n"
          ]
        }
      ]
    },
    {
      "cell_type": "markdown",
      "source": [
        "**Tout d'abord, Grid Search et Random Search optimisent les hyperparamètres du modèle pour améliorer la précision**.\n",
        "\n",
        "**Grid Search permet de tester toutes les combinaisons possibles et choisit la meilleure en fonction des performances sur les données d'entraînement**.\n",
        "\n",
        "**Par contre, Random Search permet de tester un sous ensemble aléatoire des combinaisons. Il peut donner des résultats similaires au Grid Search mais avec un peu de variance**.\n",
        "\n",
        "**On constate que les résultats du Grid Search sont :**    \n",
        "\n",
        "**. max_depth = 5**\n",
        "\n",
        "**. n_estimators = 50**\n",
        "\n",
        "**Ce qui signifie que la profondeur des arbres du modèles Random Forest est limitée à 5 niveaux, et la forêt contient 50 arbres, ce qui permet d'améliorer la stabilité (robustesse) des prédictions en évitant le sur-apprentissage**.\n",
        "\n",
        "**Cette fois ci, on constate que les résultats de Random Search sont quasiment similaire au Grid Search mais avec un nombre d'arbres plus faible**.\n",
        "\n",
        "**En effet, les résultats de Random Search sont :**    \n",
        "\n",
        "**. max_depth = 5**\n",
        "\n",
        "**. n_estimators = 20**\n",
        "\n",
        "**On comprend donc que le Grid Search et le Random Search permettent d'optimiser un modèle. Cependant, Grid Search est plus long à éxecuter alors que Random Search est plus rapide à exécuter mais moins précis**."
      ],
      "metadata": {
        "id": "swaQb1eObSXa"
      }
    },
    {
      "cell_type": "markdown",
      "source": [
        "6. Visualisez le processus d'optimisation (courbe de convergence, choix des points).\n",
        "Commentez la manière dont le modèle explore l’espace de recherche."
      ],
      "metadata": {
        "id": "FtgY280_enbj"
      }
    },
    {
      "cell_type": "code",
      "source": [
        "import matplotlib.pyplot as plt\n",
        "from skopt.plots import plot_convergence\n",
        "\n",
        "#Visualisation du processus d'optimisation\n",
        "\n",
        "plot_convergence(res)\n",
        "plt.show()\n"
      ],
      "metadata": {
        "colab": {
          "base_uri": "https://localhost:8080/",
          "height": 473
        },
        "id": "AkcSLWv1YqqC",
        "outputId": "c9e1f00d-4325-44dd-b914-aff9ea1f4327"
      },
      "execution_count": 26,
      "outputs": [
        {
          "output_type": "display_data",
          "data": {
            "text/plain": [
              "<Figure size 640x480 with 1 Axes>"
            ],
            "image/png": "[encoded data removed]"
          },
          "metadata": {}
        }
      ]
    },
    {
      "cell_type": "markdown",
      "source": [
        "**En observant le Convergence Plot, on peut analyser la manière dont l'optimisation bayésienne explore l'espace de recherche des hyperparamètres**.\n",
        "\n",
        "**On constate d'abord une première une phase où l'optimisation explore différentes valeurs sans amélioration significative (entre 0 et 10 itérations)**.\n",
        "\n",
        "**Ensuite, on observe une forte descente de la fonction objectif aux alentour de l'intervalle 10-17 itérations. Cela peut indiqué que l'algorithme a identifié une région prometteuse et commence trouver les meilleures hyperparamètres dans cette zone, et affine donc rapidement la solution**.\n",
        "\n",
        "**Enfin, à partir de 17 itérations, on constate que la valeur optimal est atteinte et qu'elle ne s'améliore presque plus. Cela veut dire que l'algorithme converge vers un ensemble d'hyperparamètre optimal et qu'il n'explore plus de nouvelles zones dans l'espace de recherche**.\n",
        "\n",
        "**Nous avons donc ici une bonne exploration avec une convergence efficace**."
      ],
      "metadata": {
        "id": "udDm_QvIfSmz"
      }
    },
    {
      "cell_type": "markdown",
      "source": [
        "7. Analysez les avantages et limites de l’optimisation bayésienne face aux méthodes\n",
        "classiques.\n"
      ],
      "metadata": {
        "id": "FwENVXvTkDUs"
      }
    },
    {
      "cell_type": "markdown",
      "source": [
        "**On constate que l'optimisation bayésienne est plus efficace que les méthodes classiques lorsque l'évaluation d'un modèle est coûteuse, que l'espace de recherche est large et continu, et qu'on veut optimiser un modèle avec peu d'itérations**.\n",
        "\n",
        "**Par contre, elle est moins adaptée lorsque les hyperparamètres sont discret, que le bruit dans les évaluations est important ou lorsque l'on se trouve dans un espace de très grande dimension**."
      ],
      "metadata": {
        "id": "9l6YMvXPkHPT"
      }
    },
    {
      "cell_type": "markdown",
      "source": [
        "**Partie 2 : Modèles Bayésiens à Noyau**"
      ],
      "metadata": {
        "id": "Pr9MIDtGlJwt"
      }
    },
    {
      "cell_type": "markdown",
      "source": [
        "**Fondements théoriques**"
      ],
      "metadata": {
        "id": "cKcFCghtlQgE"
      }
    },
    {
      "cell_type": "markdown",
      "source": [
        "8. Expliquez le concept d’inférence bayésienne.\n",
        "Comment met-on à jour les croyances avec de nouvelles données ?"
      ],
      "metadata": {
        "id": "FsYQw3cPlS39"
      }
    },
    {
      "cell_type": "markdown",
      "source": [
        "**Le concept d'inférence bayésienne repose sur le théorème de Bayes, qui permet de mettre à jour les croyances sur un paramètre ou une hypothèse à partir de nouvelles données. Le concept fondamental de l'inférence bayésienne est que nous avons au départ une croyance a priori, et lorsque nous obtenons de nouvelles données, nous utilisons ces informations pour ajuster cette croyance pour obtenir une croyance a posteriori**.\n",
        "\n",
        "**L'inférence bayésienne consiste à utiliser la formule de Bayes :**    \n",
        "\n",
        "**P(θ∣D)= [P(D)P(D∣θ)]/P(θ)**\n",
        "\n",
        "**où :**    \n",
        "\n",
        ". **𝑃(𝜃∣𝐷) est la distribution a posteriori**\n",
        "\n",
        ". **P(D∣θ) est la vraisemblance**\n",
        "\n",
        ". **P(θ) est la distribution a priori**\n",
        "\n",
        ". **P(D) est la vraisemblance marginale des données**\n",
        "\n",
        "**Lorsqu'on obtient de nouvelles données, la vraisemblance est ajustée, ce qui permet de réévaluer et de mettre à jour la distribution a posteriori, qui devient la nouvelle \"croyance\" après l'observation des données**.\n"
      ],
      "metadata": {
        "id": "sKw_pHmylY5V"
      }
    },
    {
      "cell_type": "markdown",
      "source": [
        "9. Décrivez la théorie des méthodes à noyau et leur lien avec les processus gaussiens.\n",
        "Pourquoi utiliser un noyau dans un modèle bayésien ?"
      ],
      "metadata": {
        "id": "_aFMw-Jrn8Tl"
      }
    },
    {
      "cell_type": "markdown",
      "source": [
        "**Les méthodes à noyau sont des techniques d’apprentissage qui utilisent une fonction noyau pour transformer les données dans un espace de caractéristiques, de dimensions plus élevé où des modèles plus simples (comme les hyperplans avec les SVM) peuvent être utilisés pour la séparation ou la régression.**\n",
        "\n",
        "**Les processus gaussiens sont définis par un noyau qui met en lien la corrélation entre les observations. L’utilisation d’un noyau dans les processus gaussiens permet de définir la structure spatiale et la dépendance entre les données de manière flexible et non paramétrique**.\n",
        "\n",
        "**Dans un modèle bayésien, un noyau permet de modéliser des relations complexes entre les données sans avoir besoin de spécifier une forme explicite pour les relations entre les points de données. Cela permet de mieux capturer des groupes non linéaires et d’améliorer la généralisation du modèle aux nouvelles données**."
      ],
      "metadata": {
        "id": "8Z9x3CQgoBrl"
      }
    },
    {
      "cell_type": "markdown",
      "source": [
        "10. Qu’est-ce qu’une distribution a priori et une distribution a posteriori ?\n",
        "Donnez un exemple appliqué à la prédiction de rendement agricole."
      ],
      "metadata": {
        "id": "gG0vbOPmo_GO"
      }
    },
    {
      "cell_type": "markdown",
      "source": [
        "***Distribution a prior :***\n",
        "\n",
        "**Distribution de probabilité représentant la connaissance ou l'incertitude d'un objet de données avant ou avant son observation**.\n",
        "\n",
        "***Distribution a postérieur :***\n",
        "\n",
        "**Distribution de probabilité conditionnelle représentant les paramètres probables après l'observation de l'objet de données**.\n",
        "\n",
        "**Exemple : On veut prédire la probabilité qu'un patient ait une certaine maladie**.\n",
        "\n",
        "**A priori : supposons qu'une étude préalable sur la population générale nous dit qu'il y a 5% des personnes qui ont cette maladie. Donc, avant même de recevoir les résultats des test d'un patient, notre croyance a priori est que la probabilité que ce patient ait la maladie est de 5%**.\n",
        "\n",
        "**A posteriori : Après avoirr fait un test de dépistage, on recoit des résultats qui indiquent que le patient présente certains signes compatibles avec la maladie. Via la formule de Bayes nous pouvons mettre à jour la croyance a priori pour obtenir la probabilité a posteriori que le patient ait réellement la maladie en fonction des résultats du test**."
      ],
      "metadata": {
        "id": "qNHllyIOpDXN"
      }
    },
    {
      "cell_type": "markdown",
      "source": [
        "**Implémentation et applications**"
      ],
      "metadata": {
        "id": "6A82b6SQrere"
      }
    },
    {
      "cell_type": "markdown",
      "source": [
        "11. Implémentez une régression bayésienne à noyau sur les données agricoles fournies.\n",
        "• Visualisez les prédictions et les intervalles de confiance."
      ],
      "metadata": {
        "id": "otXlF1Z5rkkm"
      }
    },
    {
      "cell_type": "code",
      "source": [
        "#On charge les données\n",
        "dataf = pd.read_csv(\"/content/tp2_atdn_donnees.csv\")\n",
        "\n",
        "#séparation de données\n",
        "X = dataf[['Température (°C)', 'Humidité (%)']]  # Choisir les colonnes indépendantes\n",
        "y = dataf['Rendement agricole (t/ha)']  # La variable cible (rendement)\n",
        "\n",
        "from sklearn.kernel_ridge import KernelRidge\n",
        "\n",
        "#Modèle de régression à noyau (noyau RBF)\n",
        "model = KernelRidge(kernel='rbf', alpha=1.0)\n",
        "model.fit(X_train, y_train)\n",
        "\n",
        "#Prédictions\n",
        "y_pred = model.predict(X_test)"
      ],
      "metadata": {
        "id": "LAC2KVkgrpyW"
      },
      "execution_count": 27,
      "outputs": []
    },
    {
      "cell_type": "code",
      "source": [
        "#Visualisation des prédictions\n",
        "plt.figure(figsize=(10,6))\n",
        "plt.scatter(y_test, y_pred, color='blue')\n",
        "plt.plot([min(y_test), max(y_test)], [min(y_test), max(y_test)], color='red', linestyle='--')\n",
        "plt.xlabel('Vraies valeurs')\n",
        "plt.ylabel('Prédictions')\n",
        "plt.title('Régression bayésienne à noyau')\n",
        "plt.show()"
      ],
      "metadata": {
        "colab": {
          "base_uri": "https://localhost:8080/",
          "height": 565
        },
        "id": "Uvn4fPKPzYHP",
        "outputId": "8af265bc-0903-48eb-8fec-7dc18ec260e3"
      },
      "execution_count": 28,
      "outputs": [
        {
          "output_type": "display_data",
          "data": {
            "text/plain": [
              "<Figure size 1000x600 with 1 Axes>"
            ],
            "image/png": "[encoded data removed]"
          },
          "metadata": {}
        }
      ]
    },
    {
      "cell_type": "markdown",
      "source": [
        "**Analyse du graphique ce dessus :**    \n",
        "\n",
        "**Les points bleu représentent les prédictions du modèle par rapport aux vraies valeurs**.\n",
        "\n",
        "**La ligne rouge en pointillé est la ligne y=x, où les prédictions seraient parfaitement alignées avec les vraies valeurs**.\n",
        "\n",
        "**On constate que les points sont éparpillés, ce qui montre que le modèle n'explique pas bien la relation entre température, humidité et rendement**.\n",
        "\n",
        "**De plus, l'échelle du rendement est entre 0 et 10, ca veut dire que nous avons une grande erreur grace au RMSE qui est de 3.92**.\n",
        "\n",
        "**On peut essayer avec un autre noyaux pour mieux capter les relations**."
      ],
      "metadata": {
        "id": "6jYqHJdd0EDP"
      }
    },
    {
      "cell_type": "code",
      "source": [
        "#Calcul de l'erreur quadratique moyenne (RMSE)\n",
        "\n",
        "from sklearn.metrics import mean_squared_error\n",
        "\n",
        "rmse = np.sqrt(mean_squared_error(y_test, y_pred))\n",
        "print(f\"RMSE: {rmse}\")"
      ],
      "metadata": {
        "colab": {
          "base_uri": "https://localhost:8080/"
        },
        "id": "gC5RX8ZPzc8A",
        "outputId": "1250074d-7378-412a-cc4a-b16bf22ebf77"
      },
      "execution_count": 18,
      "outputs": [
        {
          "output_type": "stream",
          "name": "stdout",
          "text": [
            "RMSE: 3.9280215291115352\n"
          ]
        }
      ]
    },
    {
      "cell_type": "markdown",
      "source": [
        "**Cela signifie que en moyenne les prédictions du rendement agricole ont une erreur de 3.92 unités**."
      ],
      "metadata": {
        "id": "tI0-dpsc2LOJ"
      }
    },
    {
      "cell_type": "markdown",
      "source": [
        "**Maintenant nous allons normaliser nos données afin de résoudre ce problème d'échelle et donc voir si cela a une incidence sur les résultats**. **Car nous avons remarqué sur le modèle ci dessus qu'il y avait une erreur sur la prédiction du modèle avec une mauvaise prédiction.**"
      ],
      "metadata": {
        "id": "JhlhQl276fN5"
      }
    },
    {
      "cell_type": "code",
      "source": [
        "from sklearn.preprocessing import StandardScaler\n",
        "\n",
        "# Normaliser les données\n",
        "scaler = StandardScaler()\n",
        "X_train_scaled = scaler.fit_transform(X_train)\n",
        "X_test_scaled = scaler.transform(X_test)\n",
        "\n"
      ],
      "metadata": {
        "id": "BFZ7zyCD5XbB"
      },
      "execution_count": 35,
      "outputs": []
    },
    {
      "cell_type": "code",
      "source": [
        "from sklearn.preprocessing import StandardScaler\n",
        "from sklearn.model_selection import train_test_split\n",
        "\n",
        "#Entraînement du modèle avec un noyau RBF\n",
        "model = KernelRidge(kernel='rbf', alpha=1.0)\n",
        "model.fit(X_train_scaled, y_train)\n",
        "\n",
        "#Prédictions sur l'ensemble de test\n",
        "y_pred = model.predict(X_test_scaled)\n",
        "\n",
        "#Calcul de l'erreur quadratique moyenne (RMSE)\n",
        "rmse = np.sqrt(mean_squared_error(y_test, y_pred))\n",
        "print(f\"RMSE: {rmse}\")\n",
        "\n",
        "#Visualisation des prédictions par rapport aux vraies valeurs\n",
        "plt.figure(figsize=(10, 6))\n",
        "plt.scatter(y_test, y_pred, color='blue', label='Prédictions')\n",
        "plt.plot([min(y_test), max(y_test)], [min(y_test), max(y_test)], color='red', linestyle='--', label='Référence')\n",
        "plt.xlabel('Vraies valeurs')\n",
        "plt.ylabel('Prédictions')\n",
        "plt.title('Régression bayésienne à noyau avec température et humidité')\n",
        "plt.legend()\n",
        "plt.show()"
      ],
      "metadata": {
        "colab": {
          "base_uri": "https://localhost:8080/",
          "height": 582
        },
        "id": "FyftJYwf5vs5",
        "outputId": "d0412350-27d6-4568-86ee-90083333da1c"
      },
      "execution_count": 36,
      "outputs": [
        {
          "output_type": "stream",
          "name": "stdout",
          "text": [
            "RMSE: 0.9169258833756707\n"
          ]
        },
        {
          "output_type": "display_data",
          "data": {
            "text/plain": [
              "<Figure size 1000x600 with 1 Axes>"
            ],
            "image/png": "[encoded data removed]"
          },
          "metadata": {}
        }
      ]
    },
    {
      "cell_type": "markdown",
      "source": [
        "**Après normalisation de nos données, on constate que l'erreur RMSE est maintenant de 0.91, ce qui est plus bas que la valeur précédente, ce qui indique une net amélioration**.\n",
        "\n",
        "**On constate que nous avons un meilleur alignement, les points semblent plus proche de la diagonale rouge, ce qui montre que le modèle prédit mieux les valeurs réelles**.\n",
        "\n",
        "**De plus, nous avons une réduction de la dispersion (même si certaines prédictions restent écartée)**.\n",
        "\n",
        "**Conclusion : La normalisation des données a permis d'améliorer la précision du modèle en réduisant l'erreur de prédiction**."
      ],
      "metadata": {
        "id": "mzRibBDG2VlY"
      }
    },
    {
      "cell_type": "markdown",
      "source": [
        "12. Réalisez une classification bayésienne à noyau pour prédire le type de sol (argileux,\n",
        "sableux, limoneux) en fonction des données climatiques.\n",
        "• Comparez les résultats avec un SVM classique.\n",
        "\n",
        "13. Analysez l’incertitude dans les prédictions.\n",
        "• Commentez les zones où le modèle est moins confiant\n"
      ],
      "metadata": {
        "id": "rPA2blKT8Jk6"
      }
    },
    {
      "cell_type": "code",
      "source": [
        "import pandas as pd\n",
        "from sklearn.model_selection import train_test_split\n",
        "from sklearn.preprocessing import StandardScaler\n",
        "from sklearn.gaussian_process import GaussianProcessClassifier\n",
        "from sklearn.svm import SVC\n",
        "from sklearn.metrics import classification_report\n",
        "\n",
        "\n",
        "#Charger les données\n",
        "dataff = pd.read_csv(\"/content/tp2_atdn_donnees.csv\")\n",
        "\n",
        "#Sélectionner les variables climatiques comme X (température, humidité, précipitations)\n",
        "X = dataff[['Température (°C)', 'Humidité (%)', 'Précipitations (mm)']]  #Variables indépendantes (climatiques)\n",
        "\n",
        "#La variable cible est le type de sol (argileux, sableux, limoneux)\n",
        "y = dataff['Type de sol']  # Cible (type de sol)\n",
        "\n",
        "#Diviser les données en jeu d'entraînement et de test\n",
        "X_train, X_test, y_train, y_test = train_test_split(X, y, test_size=0.2, random_state=42)\n",
        "\n",
        "#Normaliser les données\n",
        "scaler = StandardScaler()\n",
        "X_train_scaled = scaler.fit_transform(X_train)\n",
        "X_test_scaled = scaler.transform(X_test)"
      ],
      "metadata": {
        "id": "3pYhOSAZ9rTa"
      },
      "execution_count": 43,
      "outputs": []
    },
    {
      "cell_type": "code",
      "source": [
        "#Modèle bayésien à noyau (Gaussian Process Classifier)\n",
        "from sklearn.gaussian_process.kernels import RBF\n",
        "\n",
        "gp_model = GaussianProcessClassifier(kernel=RBF())  # Instantiate the RBF kernel\n",
        "gp_model.fit(X_train_scaled, y_train)\n",
        "\n",
        "#Prédictions sur l'ensemble de test\n",
        "y_pred_gp = gp_model.predict(X_test_scaled)\n",
        "\n",
        "#Évaluation du modèle bayésien\n",
        "print(\"Rapport de classification pour le modèle bayésien à noyau :\")\n",
        "print(classification_report(y_test, y_pred_gp))"
      ],
      "metadata": {
        "colab": {
          "base_uri": "https://localhost:8080/"
        },
        "collapsed": true,
        "id": "nVzfic0l-BRS",
        "outputId": "7eef5b70-24da-47f6-9904-e9a3ddc1b9f1"
      },
      "execution_count": 45,
      "outputs": [
        {
          "output_type": "stream",
          "name": "stderr",
          "text": [
            "/usr/local/lib/python3.11/dist-packages/sklearn/gaussian_process/kernels.py:452: ConvergenceWarning: The optimal value found for dimension 0 of parameter length_scale is close to the specified upper bound 100000.0. Increasing the bound and calling fit again may find a better value.\n",
            "  warnings.warn(\n"
          ]
        },
        {
          "output_type": "stream",
          "name": "stdout",
          "text": [
            "Rapport de classification pour le modèle bayésien à noyau :\n",
            "              precision    recall  f1-score   support\n",
            "\n",
            "    Argileux       0.31      1.00      0.47        31\n",
            "    Limoneux       0.00      0.00      0.00        35\n",
            "     Sableux       0.00      0.00      0.00        34\n",
            "\n",
            "    accuracy                           0.31       100\n",
            "   macro avg       0.10      0.33      0.16       100\n",
            "weighted avg       0.10      0.31      0.15       100\n",
            "\n"
          ]
        },
        {
          "output_type": "stream",
          "name": "stderr",
          "text": [
            "/usr/local/lib/python3.11/dist-packages/sklearn/metrics/_classification.py:1565: UndefinedMetricWarning: Precision is ill-defined and being set to 0.0 in labels with no predicted samples. Use `zero_division` parameter to control this behavior.\n",
            "  _warn_prf(average, modifier, f\"{metric.capitalize()} is\", len(result))\n",
            "/usr/local/lib/python3.11/dist-packages/sklearn/metrics/_classification.py:1565: UndefinedMetricWarning: Precision is ill-defined and being set to 0.0 in labels with no predicted samples. Use `zero_division` parameter to control this behavior.\n",
            "  _warn_prf(average, modifier, f\"{metric.capitalize()} is\", len(result))\n",
            "/usr/local/lib/python3.11/dist-packages/sklearn/metrics/_classification.py:1565: UndefinedMetricWarning: Precision is ill-defined and being set to 0.0 in labels with no predicted samples. Use `zero_division` parameter to control this behavior.\n",
            "  _warn_prf(average, modifier, f\"{metric.capitalize()} is\", len(result))\n"
          ]
        }
      ]
    },
    {
      "cell_type": "code",
      "source": [
        "# Modèle SVM classique avec noyau RBF\n",
        "svm_model = SVC(kernel='rbf')  # SVM avec noyau RBF\n",
        "svm_model.fit(X_train_scaled, y_train)\n",
        "\n",
        "# Prédictions sur l'ensemble de test\n",
        "y_pred_svm = svm_model.predict(X_test_scaled)\n",
        "\n",
        "# Évaluation du modèle SVM\n",
        "print(\"Rapport de classification pour le modèle SVM :\")\n",
        "print(classification_report(y_test, y_pred_svm))"
      ],
      "metadata": {
        "colab": {
          "base_uri": "https://localhost:8080/"
        },
        "id": "0CgCQP9i-LMp",
        "outputId": "19773c49-6bc1-4524-a06c-66a5c110f520"
      },
      "execution_count": 46,
      "outputs": [
        {
          "output_type": "stream",
          "name": "stdout",
          "text": [
            "Rapport de classification pour le modèle SVM :\n",
            "              precision    recall  f1-score   support\n",
            "\n",
            "    Argileux       0.28      0.61      0.39        31\n",
            "    Limoneux       0.29      0.23      0.25        35\n",
            "     Sableux       0.20      0.03      0.05        34\n",
            "\n",
            "    accuracy                           0.28       100\n",
            "   macro avg       0.26      0.29      0.23       100\n",
            "weighted avg       0.26      0.28      0.23       100\n",
            "\n"
          ]
        }
      ]
    },
    {
      "cell_type": "markdown",
      "source": [
        "**Analyse des résultats :**    \n",
        "\n",
        "**Pour la classification bayésienne avec noyaux, on constate que le modèle identifie bien les sols argileux avec n rappel de 1.00. Par contre, nous avons une précision très faible pour les sols de type limoneux et sableux (00.0 en F1-score). On a en plus de cela un accuracy de 31%, ce qui est proche du hasard.**\n",
        "\n",
        "**Pour les résultats avec un SVM classique, on constate que nous avons un meilleur équilibre entre les classes comparé au modèle bayésien. La classe limoneux est mieux détectée qu'avec la méthode bayésienne. Cependant, nous avons une mauvaise prédiction pour les sol du type sableux avec 0.12 en rappel**."
      ],
      "metadata": {
        "id": "WOOxDwB-_F6b"
      }
    },
    {
      "cell_type": "markdown",
      "source": [
        "**Modèle bayésien à noyau :**    \n",
        "\n",
        "**Le faible rappel pour les sols limoneux et sableux (00.0) indique que le modèle ne sait pas comment les classer, ce qui signifie une incertitude très élevée pour ces classes**.\n",
        "\n",
        "**Modèle SVM :**    \n",
        "\n",
        "**Le faible F1-score global (0.28) montre que le modèle hésite entre les classes, ce qui indique une incertitude élevée.**\n",
        "\n",
        "**Les faibles précisions pour les sols sableux et limoneux montrent que le modèle fait beaucoup d'erreurs.**"
      ],
      "metadata": {
        "id": "k0nl_qsBAPqW"
      }
    },
    {
      "cell_type": "markdown",
      "source": [],
      "metadata": {
        "id": "pk_sDBPAB2vL"
      }
    }
  ]
}